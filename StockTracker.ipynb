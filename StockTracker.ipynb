{
 "cells": [
  {
   "cell_type": "code",
   "execution_count": 1,
   "metadata": {
    "collapsed": true
   },
   "outputs": [],
   "source": [
    "import pandas as pd\n",
    "import numpy as np\n",
    "import time\n",
    "import datetime\n",
    "import sys\n",
    "import requests as rq\n",
    "from bs4 import BeautifulSoup as bs\n",
    "from selenium import webdriver\n",
    "import json\n",
    "import traceback as tb\n",
    "import re"
   ]
  },
  {
   "cell_type": "markdown",
   "metadata": {},
   "source": [
    "# 公式設定"
   ]
  },
  {
   "cell_type": "code",
   "execution_count": 2,
   "metadata": {
    "collapsed": true
   },
   "outputs": [],
   "source": [
    "# 計算本益比\n",
    "def getPER(price, estimate_for_EPS):\n",
    "    return price/estimate_for_EPS\n",
    "# 計算股價淨值比\n",
    "def getPBR(price, BVS):\n",
    "    return price/BVS\n",
    "# 計算殖利率\n",
    "def getPBR(total_dividend, price):\n",
    "    return total_dividend/price\n",
    "# 計算股東分紅\n",
    "def getTotal_dividend(cash_dividend, stock_dividend):\n",
    "    return cash_dividend+stock_dividend\n",
    "# 計算現距(高點)\n",
    "def getDistance_from_h(highest_price, price):\n",
    "    return (highest_price - price)/price\n",
    "# 計算波動\n",
    "def getDistance_from_h(highest_price, lowest_price):\n",
    "    return (highest_price - lowest_price)/lowest_price\n",
    "# 計算現距(低點)\n",
    "def getDistance_from_l(Q1, Q2, Q3, Q4):\n",
    "    return Q1+Q2+Q3+Q4\n",
    "# 計算累積EPS\n",
    "def getEPS_total(lowest_price, price):\n",
    "    return (lowest_price - price)/price\n",
    "# 預估EPS (還沒想好怎麼預估)\n",
    "def getEstimate_for_EPS():\n",
    "    pass"
   ]
  },
  {
   "cell_type": "markdown",
   "metadata": {},
   "source": [
    "# 為所有欄位設定變數"
   ]
  },
  {
   "cell_type": "code",
   "execution_count": 3,
   "metadata": {
    "collapsed": false
   },
   "outputs": [],
   "source": [
    "df = pd.read_excel('StockTracker_V2.xlsx')"
   ]
  },
  {
   "cell_type": "code",
   "execution_count": 4,
   "metadata": {
    "collapsed": false
   },
   "outputs": [],
   "source": [
    "company_id_series = df['company_id']\n",
    "company_name_series = df['company_name']\n",
    "price_series = df['price']\n",
    "PER_series = df['PER']\n",
    "PBR_series = df['PBR']\n",
    "BVS_series = df['BVS']\n",
    "yield_rate_series = df['yield_rate']\n",
    "cash_dividend_series = df['cash_dividend']\n",
    "stock_dividend_series = df['stock_dividend']\n",
    "total_dividend_series = df['total_dividend']\n",
    "highest_price_series = df['highest_price']\n",
    "distance_from_h_series = df['distance_from_h']\n",
    "fluctuation_series = df['fluctuation']\n",
    "distance_from_l_series = df['distance_from_l']\n",
    "lowest_price_series = df['lowest_price']\n",
    "last_ROE_series = df['last_ROE']\n",
    "EPS_total_series = df['EPS_total']\n",
    "Q1_series = df['Q1']\n",
    "Q2_series = df['Q2']\n",
    "Q3_series = df['Q3']\n",
    "Q4_series = df['Q4']\n",
    "estimate_for_EPS_series = df['estimate_for_EPS']"
   ]
  },
  {
   "cell_type": "markdown",
   "metadata": {},
   "source": [
    "# 爬蟲部分"
   ]
  },
  {
   "cell_type": "code",
   "execution_count": 5,
   "metadata": {
    "collapsed": true
   },
   "outputs": [],
   "source": [
    "# 一般資料取得方式\n",
    "def getData(url):\n",
    "    try:\n",
    "        res = rq.get(url)\n",
    "        if res.status_code() == 200:\n",
    "            print('good')\n",
    "            return res\n",
    "        else:\n",
    "            print('error')\n",
    "            print('[ERROR]status_code:{}'.format(res.status_code()))\n",
    "            return None\n",
    "    except:\n",
    "        raise\n",
    "\n",
    "# 將soup檔案轉換成json格式\n",
    "def jsonLoads(soup_str):\n",
    "    try:\n",
    "        return json.loads(soup_str)\n",
    "    except:\n",
    "        raise\n",
    "\n",
    "# 確認soup裡面是否有資料\n",
    "def IsBodyEmpty(soup):\n",
    "    return True if (soup.text == '\\n' or len(soup.text) == 0) else False  \n",
    "\n",
    "# 確認是否取得有公司資料的json物件\n",
    "def isIDExist(jsonobj):\n",
    "    return False if (jsonobj['items'][0]['vFLD_CLOSE'] == '--') else True\n",
    "\n",
    "# 使用selenium爬取yahoo股市資料，依URL不同回傳 soup物件 或 json物件\n",
    "def getDataBySelenium(url):\n",
    "    try:\n",
    "        driver = webdriver.PhantomJS(executable_path='C:/Users/nick800608/phantomjs-2.1.1-windows/bin/phantomjs')\n",
    "        driver.get(url)\n",
    "        pageSource = driver.page_source   \n",
    "        soup = bs(pageSource, 'lxml')\n",
    "        if soup.is_empty_element:\n",
    "            print('SoupEmpty!') \n",
    "            return 0\n",
    "        else:\n",
    "            if IsBodyEmpty(soup):  \n",
    "                print('BodyEmpty!')    \n",
    "                return 0\n",
    "            else:\n",
    "                if soup.title.text == 'Yahoo奇摩':\n",
    "                    print('url redirected!')    \n",
    "                    return 0\n",
    "                else:\n",
    "                    return 1, soup\n",
    "                \n",
    "    except AttributeError:\n",
    "        jsonobj = jsonLoads(soup.pre.text)\n",
    "        if isIDExist(jsonobj):\n",
    "            return 2, jsonobj  \n",
    "        else:\n",
    "            print('[Warnning]wrong id') \n",
    "            return 0 \n",
    "    \n",
    "    except:\n",
    "        tb.print_stack()"
   ]
  },
  {
   "cell_type": "markdown",
   "metadata": {},
   "source": [
    "# 設定表格取值方式"
   ]
  },
  {
   "cell_type": "code",
   "execution_count": 6,
   "metadata": {
    "collapsed": true
   },
   "outputs": [],
   "source": [
    "# 取得table左邊欄位值\n",
    "def getLeftValue(subtable_list, index):\n",
    "    value = subtable_list[index].select('td')[1].text\n",
    "    return value\n",
    "\n",
    "# 取得table中間欄位名(3欄)\n",
    "def getMiddleColumn(subtable_list, index):\n",
    "    value = subtable_list[index].select('td')[2].text\n",
    "    return value\n",
    "\n",
    "# 取得table中間欄位值(3欄)\n",
    "def getMiddleValue(subtable_list, index):\n",
    "    value = subtable_list[index].select('td')[3].text\n",
    "    return value\n",
    "\n",
    "# 取得table右邊欄位值\n",
    "def getRightValue(subtable_list, index):\n",
    "    value = subtable_list[index].select('td')[-1].text\n",
    "    return value"
   ]
  },
  {
   "cell_type": "markdown",
   "metadata": {},
   "source": [
    "# 設定將 \"4.25元\" 轉換成 float(4.25)"
   ]
  },
  {
   "cell_type": "code",
   "execution_count": 7,
   "metadata": {
    "collapsed": true
   },
   "outputs": [],
   "source": [
    "def textToFloat(pre_number):\n",
    "    try:\n",
    "        return float(pre_number.split('元')[0])\n",
    "    except:\n",
    "        return 0.0"
   ]
  },
  {
   "cell_type": "markdown",
   "metadata": {},
   "source": [
    "# 設定季/EPS取得方式"
   ]
  },
  {
   "cell_type": "code",
   "execution_count": 8,
   "metadata": {
    "collapsed": true
   },
   "outputs": [],
   "source": [
    "QX_pattern = '(\\d+)(?:第)(\\d+)(?:季)'\n",
    "\n",
    "def yearquarterRepl(matchobj):\n",
    "    return matchobj.group(1)+matchobj.group(2)\n",
    "\n",
    "def tupleQuarterEPS(subtable_list, index):\n",
    "    pre_quarter = getMiddleColumn(subtable_list, index)\n",
    "    quarter_text = re.sub(QX_pattern, yearquarterRepl, pre_quarter)\n",
    "    EPS_float = textToFloat(getMiddleValue(subtable_list, index))\n",
    "    return quarter_text, EPS_float"
   ]
  },
  {
   "cell_type": "markdown",
   "metadata": {},
   "source": [
    "# 設定URL產生方式"
   ]
  },
  {
   "cell_type": "code",
   "execution_count": 9,
   "metadata": {
    "collapsed": true
   },
   "outputs": [],
   "source": [
    "# 產生公司基本資料URL\n",
    "def getBStockURL(company_id):\n",
    "    return 'https://tw.stock.yahoo.com/d/s/company_{}.html'\\\n",
    "    .format(company_id)  \n",
    "    \n",
    "# 產生個股健檢URL\n",
    "def getAStockURL(company_id):\n",
    "    return 'https://tw.screener.finance.yahoo.net/screener/ws?f=j&ShowID={}'\\\n",
    "    .format(company_id)"
   ]
  },
  {
   "cell_type": "markdown",
   "metadata": {},
   "source": [
    "# 設定多進程池(非多線程) \n",
    "### 不會對字典裡同樣的K-V做修改，暫時不需要實作同步"
   ]
  },
  {
   "cell_type": "code",
   "execution_count": 10,
   "metadata": {
    "collapsed": true
   },
   "outputs": [],
   "source": [
    "def task(url):\n",
    "    state_code, data = getDataBySelenium(url)\n",
    "    print(state_code)\n",
    "    print(data)\n",
    "    # do something\n",
    "    return data"
   ]
  },
  {
   "cell_type": "code",
   "execution_count": 11,
   "metadata": {
    "collapsed": false
   },
   "outputs": [
    {
     "name": "stdout",
     "output_type": "stream",
     "text": [
      "2\n",
      "{'items': [{'vFLD_TOT_AMT1': '1681', 'BROKER_BS_BUY1': '1647', 'FLD_EPS_Q_VALUE1': '1.63', 'FLD_NET_VALUE': '64.19', 'BROKER_BS_BUY4': '484', 'FLD_EPS_Y_NAME1': '106年(近期累計)', 'vFLD_CLOSE': '104.00元', 'FLD_EPS_Y_VALUE4': '8.85', 'vFLD_YMD1': '05/22', 'vFLD_M_BAL_SHARE': '50084', 'BROKER_BS_SELL_NAME3': '元大', 'vFLD_LIST_CODE5': '2474', 'vFLD_CLOSE_MONTH': '5.67%', 'v52_WEEK_HIGH_PRICE': '105.50元', 'BROKER_BS_SELL5': '-364', 'vFLD_YMD': '05/23', 'BROKER_BS_BUY_NAME5': '德意志', 'BROKER_BS_BUY_NAME2': '摩根大通', 'vFLD_FRN_AMT3': '-8702', 'vFLD_K9_UPDNRATE': '53.94', 'vFLD_ITH_AMT3': '-392', 'vFLD_TOT_AMT3': '-9942', 'vFLD_ROE': '2.52%', 'vFLD_LIST_CODE1': '6196', 'FLD_EPS_Y_NAME2': '105年', 'BROKER_BS_BUY_NAME4': '台灣摩根', 'vFLD_FRN_AMT2': '-1844', 'vFLD_EPS': '1.63元', 'FLD_EPS_Y_VALUE3': '9.42', 'STOCK_CHARACTER': '2', 'vFLD_PBR': '1.60', 'FLD_EPS_Y_VALUE1': '1.63', 'vFLD_M_BAL_DIF': '-130', 'BROKER_BS_DATE': '05/22', 'BROKER_BS_BUY3': '712', 'BROKER_BS_SELL_NAME5': '群益', 'FLD_EPS_Q_NAME3': '105年/Q3', 'BROKER_BS_BUY_NAME3': '瑞士信貸', 'BROKER_BS_SELL_NAME4': '永豐金', 'vFLD_ITH_AMT2': '-461', 'vFLD_NAME_C3': '聯鈞', 'vFLD_PROFIT': '7.36%', 'vFLD_S_BAL_SHARE': '1250', 'FLD_EPS_Q_NAME2': '105年/Q4', 'BROKER_BS_BUY5': '322', 'vGET_MONEY': '3227.88億元', 'vFLD_BAL_RATE_DIF': '0.10%', 'vFLD_DLR_AMT3': '-848', 'BROKER_BS_SELL2': '-796', 'vFLD_CLOSE_SEASON': '14.53%', 'BROKER_BS_BUY2': '1009', 'FLD_EPS_Q_NAME1': '106年/Q1', 'vFLD_ITH_AMT1': '282', 'BROKER_BS_SELL4': '-387', 'vFLD_CLOSE_WEEK': '-0.49%', 'vFLD_LIST_CODE3': '3450', 'FLD_EPS_Y_NAME3': '104年', 'BROKER_BS_BUY_NAME1': '元富', 'vFLD_LIST_CODE4': '3665', 'vFLD_DLR_AMT1': '298', 'vFLD_NAME_C5': '可成', 'FLD_EPS_Q_NAME4': '105年/Q2', 'vFLD_D9_UPDNRATE': '52.78', 'vFLD_NAME_C1': '帆宣', 'vFLD_TOT_AMT2': '-2936', 'vFLD_DLR_AMT2': '-631', 'vFLD_NAME_C2': '鴻準', 'vMACD': '201.07', 'BROKER_BS_SELL_NAME2': '富邦', 'FLD_EPS_Q_VALUE4': '0.97', 'vFLD_BAL_YMD': '05/22', 'vFLD_PRCQ_YMD': '2017/Q1', 'vFLD_S_BAL_DIF': '50', 'vFLD_FRN_AMT1': '1101', 'FLD_EPS_Q_VALUE2': '3.97', 'vFLD_UP_DN_RATE': '1.46', 'BROKER_BS_SELL3': '-709', 'vFLD_TXN_VOLUME': '114919', 'vFLD_UP_DN': '1.50', 'vFLD_PER': '11.90倍', 'vSTK_VALUE': '64.19元', 'FLD_EPS_Q_VALUE3': '2.00', 'vGET_MONEY_DATE': '2017/04', 'BROKER_BS_SELL1': '-825', 'vFLD_LIST_CODE2': '2354', 'BROKER_BS_SELL_NAME1': '日盛', 'vFLD_NAME_C4': '貿聯-KY', 'FLD_EPS_Y_VALUE2': '8.60', 'FLD_EPS_Y_NAME4': '103年', 'vFLD_BAL_RATE': '2.50%', 'vFLD_YMD2': '05/19', 'v52_WEEK_LOW_PRICE': '76.30元', 'vFLD_YMD3': '05/18'}], 'count': '1', 'error': '', 'totalcount': ''}\n"
     ]
    },
    {
     "data": {
      "text/plain": [
       "{'count': '1',\n",
       " 'error': '',\n",
       " 'items': [{'BROKER_BS_BUY1': '1647',\n",
       "   'BROKER_BS_BUY2': '1009',\n",
       "   'BROKER_BS_BUY3': '712',\n",
       "   'BROKER_BS_BUY4': '484',\n",
       "   'BROKER_BS_BUY5': '322',\n",
       "   'BROKER_BS_BUY_NAME1': '元富',\n",
       "   'BROKER_BS_BUY_NAME2': '摩根大通',\n",
       "   'BROKER_BS_BUY_NAME3': '瑞士信貸',\n",
       "   'BROKER_BS_BUY_NAME4': '台灣摩根',\n",
       "   'BROKER_BS_BUY_NAME5': '德意志',\n",
       "   'BROKER_BS_DATE': '05/22',\n",
       "   'BROKER_BS_SELL1': '-825',\n",
       "   'BROKER_BS_SELL2': '-796',\n",
       "   'BROKER_BS_SELL3': '-709',\n",
       "   'BROKER_BS_SELL4': '-387',\n",
       "   'BROKER_BS_SELL5': '-364',\n",
       "   'BROKER_BS_SELL_NAME1': '日盛',\n",
       "   'BROKER_BS_SELL_NAME2': '富邦',\n",
       "   'BROKER_BS_SELL_NAME3': '元大',\n",
       "   'BROKER_BS_SELL_NAME4': '永豐金',\n",
       "   'BROKER_BS_SELL_NAME5': '群益',\n",
       "   'FLD_EPS_Q_NAME1': '106年/Q1',\n",
       "   'FLD_EPS_Q_NAME2': '105年/Q4',\n",
       "   'FLD_EPS_Q_NAME3': '105年/Q3',\n",
       "   'FLD_EPS_Q_NAME4': '105年/Q2',\n",
       "   'FLD_EPS_Q_VALUE1': '1.63',\n",
       "   'FLD_EPS_Q_VALUE2': '3.97',\n",
       "   'FLD_EPS_Q_VALUE3': '2.00',\n",
       "   'FLD_EPS_Q_VALUE4': '0.97',\n",
       "   'FLD_EPS_Y_NAME1': '106年(近期累計)',\n",
       "   'FLD_EPS_Y_NAME2': '105年',\n",
       "   'FLD_EPS_Y_NAME3': '104年',\n",
       "   'FLD_EPS_Y_NAME4': '103年',\n",
       "   'FLD_EPS_Y_VALUE1': '1.63',\n",
       "   'FLD_EPS_Y_VALUE2': '8.60',\n",
       "   'FLD_EPS_Y_VALUE3': '9.42',\n",
       "   'FLD_EPS_Y_VALUE4': '8.85',\n",
       "   'FLD_NET_VALUE': '64.19',\n",
       "   'STOCK_CHARACTER': '2',\n",
       "   'v52_WEEK_HIGH_PRICE': '105.50元',\n",
       "   'v52_WEEK_LOW_PRICE': '76.30元',\n",
       "   'vFLD_BAL_RATE': '2.50%',\n",
       "   'vFLD_BAL_RATE_DIF': '0.10%',\n",
       "   'vFLD_BAL_YMD': '05/22',\n",
       "   'vFLD_CLOSE': '104.00元',\n",
       "   'vFLD_CLOSE_MONTH': '5.67%',\n",
       "   'vFLD_CLOSE_SEASON': '14.53%',\n",
       "   'vFLD_CLOSE_WEEK': '-0.49%',\n",
       "   'vFLD_D9_UPDNRATE': '52.78',\n",
       "   'vFLD_DLR_AMT1': '298',\n",
       "   'vFLD_DLR_AMT2': '-631',\n",
       "   'vFLD_DLR_AMT3': '-848',\n",
       "   'vFLD_EPS': '1.63元',\n",
       "   'vFLD_FRN_AMT1': '1101',\n",
       "   'vFLD_FRN_AMT2': '-1844',\n",
       "   'vFLD_FRN_AMT3': '-8702',\n",
       "   'vFLD_ITH_AMT1': '282',\n",
       "   'vFLD_ITH_AMT2': '-461',\n",
       "   'vFLD_ITH_AMT3': '-392',\n",
       "   'vFLD_K9_UPDNRATE': '53.94',\n",
       "   'vFLD_LIST_CODE1': '6196',\n",
       "   'vFLD_LIST_CODE2': '2354',\n",
       "   'vFLD_LIST_CODE3': '3450',\n",
       "   'vFLD_LIST_CODE4': '3665',\n",
       "   'vFLD_LIST_CODE5': '2474',\n",
       "   'vFLD_M_BAL_DIF': '-130',\n",
       "   'vFLD_M_BAL_SHARE': '50084',\n",
       "   'vFLD_NAME_C1': '帆宣',\n",
       "   'vFLD_NAME_C2': '鴻準',\n",
       "   'vFLD_NAME_C3': '聯鈞',\n",
       "   'vFLD_NAME_C4': '貿聯-KY',\n",
       "   'vFLD_NAME_C5': '可成',\n",
       "   'vFLD_PBR': '1.60',\n",
       "   'vFLD_PER': '11.90倍',\n",
       "   'vFLD_PRCQ_YMD': '2017/Q1',\n",
       "   'vFLD_PROFIT': '7.36%',\n",
       "   'vFLD_ROE': '2.52%',\n",
       "   'vFLD_S_BAL_DIF': '50',\n",
       "   'vFLD_S_BAL_SHARE': '1250',\n",
       "   'vFLD_TOT_AMT1': '1681',\n",
       "   'vFLD_TOT_AMT2': '-2936',\n",
       "   'vFLD_TOT_AMT3': '-9942',\n",
       "   'vFLD_TXN_VOLUME': '114919',\n",
       "   'vFLD_UP_DN': '1.50',\n",
       "   'vFLD_UP_DN_RATE': '1.46',\n",
       "   'vFLD_YMD': '05/23',\n",
       "   'vFLD_YMD1': '05/22',\n",
       "   'vFLD_YMD2': '05/19',\n",
       "   'vFLD_YMD3': '05/18',\n",
       "   'vGET_MONEY': '3227.88億元',\n",
       "   'vGET_MONEY_DATE': '2017/04',\n",
       "   'vMACD': '201.07',\n",
       "   'vSTK_VALUE': '64.19元'}],\n",
       " 'totalcount': ''}"
      ]
     },
     "execution_count": 11,
     "metadata": {},
     "output_type": "execute_result"
    }
   ],
   "source": [
    "# 單元測試\n",
    "test_json_url = 'https://tw.screener.finance.yahoo.net/screener/ws?f=j&ShowID=2317'\n",
    "task(test_json_url)"
   ]
  },
  {
   "cell_type": "code",
   "execution_count": 12,
   "metadata": {
    "collapsed": true
   },
   "outputs": [],
   "source": [
    "testjsondata = {'count': '1',\n",
    " 'error': '',\n",
    " 'items': [{'BROKER_BS_BUY1': '4777',\n",
    "   'BROKER_BS_BUY2': '3463',\n",
    "   'BROKER_BS_BUY3': '879',\n",
    "   'BROKER_BS_BUY4': '835',\n",
    "   'BROKER_BS_BUY5': '735',\n",
    "   'BROKER_BS_BUY_NAME1': '瑞士信貸',\n",
    "   'BROKER_BS_BUY_NAME2': '摩根大通',\n",
    "   'BROKER_BS_BUY_NAME3': '美林',\n",
    "   'BROKER_BS_BUY_NAME4': '上海匯豐',\n",
    "   'BROKER_BS_BUY_NAME5': '德意志',\n",
    "   'BROKER_BS_DATE': '05/10',\n",
    "   'BROKER_BS_SELL1': '-5704',\n",
    "   'BROKER_BS_SELL2': '-2194',\n",
    "   'BROKER_BS_SELL3': '-1935',\n",
    "   'BROKER_BS_SELL4': '-1652',\n",
    "   'BROKER_BS_SELL5': '-1272',\n",
    "   'BROKER_BS_SELL_NAME1': '元富',\n",
    "   'BROKER_BS_SELL_NAME2': '國泰綜合',\n",
    "   'BROKER_BS_SELL_NAME3': '國票綜合',\n",
    "   'BROKER_BS_SELL_NAME4': '大和國泰',\n",
    "   'BROKER_BS_SELL_NAME5': '台灣匯立',\n",
    "   'FLD_EPS_Q_NAME1': '105年/Q4',\n",
    "   'FLD_EPS_Q_NAME2': '105年/Q3',\n",
    "   'FLD_EPS_Q_NAME3': '105年/Q2',\n",
    "   'FLD_EPS_Q_NAME4': '105年/Q1',\n",
    "   'FLD_EPS_Q_VALUE1': '3.97',\n",
    "   'FLD_EPS_Q_VALUE2': '2.00',\n",
    "   'FLD_EPS_Q_VALUE3': '0.97',\n",
    "   'FLD_EPS_Q_VALUE4': '1.76',\n",
    "   'FLD_EPS_Y_NAME1': '105年',\n",
    "   'FLD_EPS_Y_NAME2': '104年',\n",
    "   'FLD_EPS_Y_NAME3': '103年',\n",
    "   'FLD_EPS_Y_NAME4': '102年',\n",
    "   'FLD_EPS_Y_VALUE1': '8.60',\n",
    "   'FLD_EPS_Y_VALUE2': '9.42',\n",
    "   'FLD_EPS_Y_VALUE3': '8.85',\n",
    "   'FLD_EPS_Y_VALUE4': '8.16',\n",
    "   'FLD_NET_VALUE': '62.26',\n",
    "   'STOCK_CHARACTER': '2',\n",
    "   'v52_WEEK_HIGH_PRICE': '105.50元',\n",
    "   'v52_WEEK_LOW_PRICE': '73.00元',\n",
    "   'vFLD_BAL_RATE': '3.24%',\n",
    "   'vFLD_BAL_RATE_DIF': '-0.01%',\n",
    "   'vFLD_BAL_YMD': '05/10',\n",
    "   'vFLD_CLOSE': '104.00元',\n",
    "   'vFLD_CLOSE_MONTH': '6.89%',\n",
    "   'vFLD_CLOSE_SEASON': '15.68%',\n",
    "   'vFLD_CLOSE_WEEK': '4.00%',\n",
    "   'vFLD_D9_UPDNRATE': '79.42',\n",
    "   'vFLD_DLR_AMT1': '0',\n",
    "   'vFLD_DLR_AMT2': '163',\n",
    "   'vFLD_DLR_AMT3': '-3458',\n",
    "   'vFLD_EPS': '3.97元',\n",
    "   'vFLD_FRN_AMT1': '0',\n",
    "   'vFLD_FRN_AMT2': '10062',\n",
    "   'vFLD_FRN_AMT3': '10945',\n",
    "   'vFLD_ITH_AMT1': '0',\n",
    "   'vFLD_ITH_AMT2': '61',\n",
    "   'vFLD_ITH_AMT3': '1306',\n",
    "   'vFLD_K9_UPDNRATE': '80.34',\n",
    "   'vFLD_LIST_CODE1': '3665',\n",
    "   'vFLD_LIST_CODE2': '2354',\n",
    "   'vFLD_LIST_CODE3': '2474',\n",
    "   'vFLD_LIST_CODE4': '6196',\n",
    "   'vFLD_LIST_CODE5': '2464',\n",
    "   'vFLD_M_BAL_DIF': '-32',\n",
    "   'vFLD_M_BAL_SHARE': '50134',\n",
    "   'vFLD_NAME_C1': '貿聯-KY',\n",
    "   'vFLD_NAME_C2': '鴻準',\n",
    "   'vFLD_NAME_C3': '可成',\n",
    "   'vFLD_NAME_C4': '帆宣',\n",
    "   'vFLD_NAME_C5': '盟立',\n",
    "   'vFLD_PBR': '1.67',\n",
    "   'vFLD_PER': '12.12倍',\n",
    "   'vFLD_PRCQ_YMD': '2016/Q4',\n",
    "   'vFLD_PROFIT': '8.44%',\n",
    "   'vFLD_ROE': '6.42%',\n",
    "   'vFLD_S_BAL_DIF': '-8',\n",
    "   'vFLD_S_BAL_SHARE': '1626',\n",
    "   'vFLD_TOT_AMT1': '0',\n",
    "   'vFLD_TOT_AMT2': '10286',\n",
    "   'vFLD_TOT_AMT3': '8793',\n",
    "   'vFLD_TXN_VOLUME': '236266',\n",
    "   'vFLD_UP_DN': '0.00',\n",
    "   'vFLD_UP_DN_RATE': '0.00',\n",
    "   'vFLD_YMD': '05/11',\n",
    "   'vFLD_YMD1': '05/11',\n",
    "   'vFLD_YMD2': '05/10',\n",
    "   'vFLD_YMD3': '05/09',\n",
    "   'vGET_MONEY': '3227.88億元',\n",
    "   'vGET_MONEY_DATE': '2017/04',\n",
    "   'vMACD': '207.66',\n",
    "   'vSTK_VALUE': '62.26元'}],\n",
    " 'totalcount': ''}"
   ]
  },
  {
   "cell_type": "code",
   "execution_count": 16,
   "metadata": {
    "collapsed": false
   },
   "outputs": [
    {
     "name": "stdout",
     "output_type": "stream",
     "text": [
      "None\n"
     ]
    }
   ],
   "source": [
    "# 單元測試\n",
    "fun = numbers_to_functions(1)"
   ]
  },
  {
   "cell_type": "code",
   "execution_count": 17,
   "metadata": {
    "collapsed": false
   },
   "outputs": [
    {
     "data": {
      "text/plain": [
       "'one'"
      ]
     },
     "execution_count": 17,
     "metadata": {},
     "output_type": "execute_result"
    }
   ],
   "source": [
    "fun"
   ]
  },
  {
   "cell_type": "code",
   "execution_count": 14,
   "metadata": {
    "collapsed": true
   },
   "outputs": [],
   "source": [
    "def getSoupData():\n",
    "    \n",
    "    return \"one\"\n",
    " \n",
    "def getJsonData():\n",
    "    return \"two\"\n",
    " \n",
    "def numbers_to_functions(state_code):\n",
    "    switcher = {\n",
    "        0: print('None'),        \n",
    "        1: getSoupData,\n",
    "        2: getJsonData,\n",
    "\n",
    "    }\n",
    "    # Get the function from switcher dictionary\n",
    "    func = switcher.get(state_code, lambda: \"nothing\")\n",
    "    # Execute the function\n",
    "    return func()"
   ]
  },
  {
   "cell_type": "code",
   "execution_count": 18,
   "metadata": {
    "collapsed": true
   },
   "outputs": [],
   "source": [
    "def Multiprocessing(url_list):\n",
    "    multiprocessing.freeze_support() #避免window的RuntimeError\n",
    "    pool = multiprocessing.Pool()\n",
    "    cpus = multiprocessing.cpu_count()\n",
    "    results = []\n",
    "    for i in range(0, cpus):\n",
    "        result = pool.apply_async(task, args=(i,))\n",
    "        results.append(result)\n",
    "    pool.close()\n",
    "    pool.join()\n",
    "    \n",
    "    return results_list"
   ]
  },
  {
   "cell_type": "code",
   "execution_count": null,
   "metadata": {
    "collapsed": true
   },
   "outputs": [],
   "source": []
  },
  {
   "cell_type": "code",
   "execution_count": null,
   "metadata": {
    "collapsed": true
   },
   "outputs": [],
   "source": [
    "rowdata_list = []"
   ]
  },
  {
   "cell_type": "code",
   "execution_count": null,
   "metadata": {
    "collapsed": true
   },
   "outputs": [],
   "source": [
    "def getRowdata(company_id):\n",
    "    "
   ]
  },
  {
   "cell_type": "code",
   "execution_count": null,
   "metadata": {
    "collapsed": true
   },
   "outputs": [],
   "source": [
    "\n",
    "\n",
    " \n",
    "    \n",
    "\n",
    "company_number_int32 = company_id_series.count()\n",
    "for row_index in range(company_number_int32):\n",
    "    company_id = company_id_series[row_index]    \n",
    "    BStockURL = getBStockURL(company_id)\n",
    "    AStockURL = getAStockURL(company_id)\n",
    "    \n",
    "    "
   ]
  },
  {
   "cell_type": "code",
   "execution_count": 10,
   "metadata": {
    "collapsed": false,
    "scrolled": false
   },
   "outputs": [
    {
     "data": {
      "text/html": [
       "<div>\n",
       "<table border=\"1\" class=\"dataframe\">\n",
       "  <thead>\n",
       "    <tr style=\"text-align: right;\">\n",
       "      <th></th>\n",
       "      <th>0</th>\n",
       "      <th>company_id</th>\n",
       "      <th>company_name</th>\n",
       "      <th>price</th>\n",
       "      <th>PER</th>\n",
       "      <th>PBR</th>\n",
       "      <th>BVS</th>\n",
       "      <th>yield_rate</th>\n",
       "      <th>cash_dividend</th>\n",
       "      <th>stock_dividend</th>\n",
       "      <th>...</th>\n",
       "      <th>fluctuation</th>\n",
       "      <th>distance_from_l</th>\n",
       "      <th>lowest_price</th>\n",
       "      <th>last_ROE</th>\n",
       "      <th>EPS_total</th>\n",
       "      <th>Q1</th>\n",
       "      <th>Q2</th>\n",
       "      <th>Q3</th>\n",
       "      <th>Q4</th>\n",
       "      <th>estimate_for_EPS</th>\n",
       "    </tr>\n",
       "  </thead>\n",
       "  <tbody>\n",
       "    <tr>\n",
       "      <th>0</th>\n",
       "      <td>1</td>\n",
       "      <td>2317</td>\n",
       "      <td>NaN</td>\n",
       "      <td>83.5</td>\n",
       "      <td>NaN</td>\n",
       "      <td>NaN</td>\n",
       "      <td>NaN</td>\n",
       "      <td>NaN</td>\n",
       "      <td>NaN</td>\n",
       "      <td>NaN</td>\n",
       "      <td>...</td>\n",
       "      <td>NaN</td>\n",
       "      <td>NaN</td>\n",
       "      <td>NaN</td>\n",
       "      <td>NaN</td>\n",
       "      <td>NaN</td>\n",
       "      <td>NaN</td>\n",
       "      <td>NaN</td>\n",
       "      <td>NaN</td>\n",
       "      <td>NaN</td>\n",
       "      <td>NaN</td>\n",
       "    </tr>\n",
       "    <tr>\n",
       "      <th>1</th>\n",
       "      <td>2</td>\n",
       "      <td>2324</td>\n",
       "      <td>NaN</td>\n",
       "      <td>NaN</td>\n",
       "      <td>NaN</td>\n",
       "      <td>NaN</td>\n",
       "      <td>NaN</td>\n",
       "      <td>NaN</td>\n",
       "      <td>NaN</td>\n",
       "      <td>NaN</td>\n",
       "      <td>...</td>\n",
       "      <td>NaN</td>\n",
       "      <td>NaN</td>\n",
       "      <td>NaN</td>\n",
       "      <td>NaN</td>\n",
       "      <td>NaN</td>\n",
       "      <td>NaN</td>\n",
       "      <td>NaN</td>\n",
       "      <td>NaN</td>\n",
       "      <td>NaN</td>\n",
       "      <td>NaN</td>\n",
       "    </tr>\n",
       "    <tr>\n",
       "      <th>2</th>\n",
       "      <td>3</td>\n",
       "      <td>2382</td>\n",
       "      <td>NaN</td>\n",
       "      <td>NaN</td>\n",
       "      <td>NaN</td>\n",
       "      <td>NaN</td>\n",
       "      <td>NaN</td>\n",
       "      <td>NaN</td>\n",
       "      <td>NaN</td>\n",
       "      <td>NaN</td>\n",
       "      <td>...</td>\n",
       "      <td>NaN</td>\n",
       "      <td>NaN</td>\n",
       "      <td>NaN</td>\n",
       "      <td>NaN</td>\n",
       "      <td>NaN</td>\n",
       "      <td>NaN</td>\n",
       "      <td>NaN</td>\n",
       "      <td>NaN</td>\n",
       "      <td>NaN</td>\n",
       "      <td>NaN</td>\n",
       "    </tr>\n",
       "    <tr>\n",
       "      <th>3</th>\n",
       "      <td>4</td>\n",
       "      <td>3231</td>\n",
       "      <td>NaN</td>\n",
       "      <td>NaN</td>\n",
       "      <td>NaN</td>\n",
       "      <td>NaN</td>\n",
       "      <td>NaN</td>\n",
       "      <td>NaN</td>\n",
       "      <td>NaN</td>\n",
       "      <td>NaN</td>\n",
       "      <td>...</td>\n",
       "      <td>NaN</td>\n",
       "      <td>NaN</td>\n",
       "      <td>NaN</td>\n",
       "      <td>NaN</td>\n",
       "      <td>NaN</td>\n",
       "      <td>NaN</td>\n",
       "      <td>NaN</td>\n",
       "      <td>NaN</td>\n",
       "      <td>NaN</td>\n",
       "      <td>NaN</td>\n",
       "    </tr>\n",
       "    <tr>\n",
       "      <th>4</th>\n",
       "      <td>5</td>\n",
       "      <td>2353</td>\n",
       "      <td>NaN</td>\n",
       "      <td>NaN</td>\n",
       "      <td>NaN</td>\n",
       "      <td>NaN</td>\n",
       "      <td>NaN</td>\n",
       "      <td>NaN</td>\n",
       "      <td>NaN</td>\n",
       "      <td>NaN</td>\n",
       "      <td>...</td>\n",
       "      <td>NaN</td>\n",
       "      <td>NaN</td>\n",
       "      <td>NaN</td>\n",
       "      <td>NaN</td>\n",
       "      <td>NaN</td>\n",
       "      <td>NaN</td>\n",
       "      <td>NaN</td>\n",
       "      <td>NaN</td>\n",
       "      <td>NaN</td>\n",
       "      <td>NaN</td>\n",
       "    </tr>\n",
       "  </tbody>\n",
       "</table>\n",
       "<p>5 rows × 23 columns</p>\n",
       "</div>"
      ],
      "text/plain": [
       "   0  company_id  company_name  price  PER  PBR  BVS  yield_rate  \\\n",
       "0  1        2317           NaN   83.5  NaN  NaN  NaN         NaN   \n",
       "1  2        2324           NaN    NaN  NaN  NaN  NaN         NaN   \n",
       "2  3        2382           NaN    NaN  NaN  NaN  NaN         NaN   \n",
       "3  4        3231           NaN    NaN  NaN  NaN  NaN         NaN   \n",
       "4  5        2353           NaN    NaN  NaN  NaN  NaN         NaN   \n",
       "\n",
       "   cash_dividend  stock_dividend        ...         fluctuation  \\\n",
       "0            NaN             NaN        ...                 NaN   \n",
       "1            NaN             NaN        ...                 NaN   \n",
       "2            NaN             NaN        ...                 NaN   \n",
       "3            NaN             NaN        ...                 NaN   \n",
       "4            NaN             NaN        ...                 NaN   \n",
       "\n",
       "   distance_from_l  lowest_price  last_ROE  EPS_total  Q1  Q2  Q3  Q4  \\\n",
       "0              NaN           NaN       NaN        NaN NaN NaN NaN NaN   \n",
       "1              NaN           NaN       NaN        NaN NaN NaN NaN NaN   \n",
       "2              NaN           NaN       NaN        NaN NaN NaN NaN NaN   \n",
       "3              NaN           NaN       NaN        NaN NaN NaN NaN NaN   \n",
       "4              NaN           NaN       NaN        NaN NaN NaN NaN NaN   \n",
       "\n",
       "   estimate_for_EPS  \n",
       "0               NaN  \n",
       "1               NaN  \n",
       "2               NaN  \n",
       "3               NaN  \n",
       "4               NaN  \n",
       "\n",
       "[5 rows x 23 columns]"
      ]
     },
     "execution_count": 10,
     "metadata": {},
     "output_type": "execute_result"
    }
   ],
   "source": [
    "# 測試是否有拿到Data\n",
    "df.head()"
   ]
  },
  {
   "cell_type": "code",
   "execution_count": 102,
   "metadata": {
    "collapsed": false,
    "scrolled": true
   },
   "outputs": [
    {
     "name": "stdout",
     "output_type": "stream",
     "text": [
      "2317\n",
      "2324\n",
      "2382\n",
      "3231\n",
      "2353\n",
      "2330\n",
      "3044\n",
      "3189\n",
      "6239\n",
      "2801\n",
      "2880\n",
      "2881\n",
      "2882\n",
      "2884\n",
      "2886\n",
      "2887\n",
      "2888\n",
      "2891\n",
      "2892\n",
      "5880\n",
      "2820\n",
      "2889\n",
      "2889\n"
     ]
    }
   ],
   "source": [
    "company_number_int32 = company_id_series.count()\n",
    "for row_index in range(company_number_int32):\n",
    "    company_id = company_id_series[row_index]\n",
    "    print(company_id)"
   ]
  },
  {
   "cell_type": "code",
   "execution_count": null,
   "metadata": {
    "collapsed": true
   },
   "outputs": [],
   "source": []
  },
  {
   "cell_type": "markdown",
   "metadata": {},
   "source": [
    "# 拿取公司基本資料"
   ]
  },
  {
   "cell_type": "code",
   "execution_count": 35,
   "metadata": {
    "collapsed": true
   },
   "outputs": [],
   "source": [
    "# 測試 class ComBasicData\n",
    "def test_class_ComBasicData():\n",
    "    testclassurl = 'https://tw.stock.yahoo.com/d/s/company_2330.html'\n",
    "    driver = webdriver.PhantomJS(executable_path='phantomjs-2.1.1-windows/bin/phantomjs')\n",
    "    driver.get(testclassurl)\n",
    "    pageSource = driver.page_source   \n",
    "    soup = bs(pageSource, 'lxml')\n",
    "    \n",
    "    test_basic_data = ComBasicData(soup)\n",
    "        \n",
    "    b_info = test_basic_data.basic_info_list\n",
    "    print('[ERROR]basic_info_list') if (len(b_info) == 0) else print('[INFO]basic_info_list')\n",
    "    \n",
    "    b_prof = test_basic_data.profitability_list\n",
    "    print('[ERROR]profitability_list') if (len(b_prof) == 0) else print('[INFO]profitability_list')\n",
    "        \n",
    "    b_exR_exD = test_basic_data.exR_and_exD_list\n",
    "    print('[ERROR]exR_and_exD_list') if (len(b_exR_exD) == 0) else print('[INFO]exR_and_exD_list') \n",
    "    \n",
    "    test_TestToFloat_str = '15.0元'\n",
    "    if textToFloat(test_TestToFloat_str) == 15.0:\n",
    "        print('[INFO]textToFloat')\n",
    "    else:\n",
    "        print('[ERROR]textToFloat')"
   ]
  },
  {
   "cell_type": "code",
   "execution_count": 36,
   "metadata": {
    "collapsed": false
   },
   "outputs": [
    {
     "name": "stdout",
     "output_type": "stream",
     "text": [
      "[INFO]basic_info_list\n",
      "[INFO]profitability_list\n",
      "[INFO]exR_and_exD_list\n",
      "[INFO]textToFloat\n"
     ]
    }
   ],
   "source": [
    "test_class_ComBasicData()"
   ]
  },
  {
   "cell_type": "code",
   "execution_count": null,
   "metadata": {
    "collapsed": true
   },
   "outputs": [],
   "source": []
  },
  {
   "cell_type": "code",
   "execution_count": 23,
   "metadata": {
    "collapsed": true
   },
   "outputs": [],
   "source": [
    "# This class is base-on BeautifulSoup(lxml), Selenium(webdriver PhantomJS, re)\n",
    "class ComBasicData:\n",
    "    def __init__(self, soup_data):\n",
    "        # 取得股東權益 (yahoo>公司>基本資料)\n",
    "        # 找到表格中中標題 (淺黃色的tr，3個，基本資料、獲利能力、除權息資料)\n",
    "        tabletitle_list = soup_data.findAll('tr', {'bgcolor': re.compile('#FFDB6F')})\n",
    "        # 基本資料\n",
    "        self.basic_info_list = tabletitle_list[0].find_next_siblings()\n",
    "        # 獲利能力\n",
    "        self.profitability_list = tabletitle_list[1].find_next_siblings()\n",
    "        # 除權息資料\n",
    "        self.exR_and_exD_list = tabletitle_list[2].find_next_siblings()\n",
    "    \n",
    "    # 取得table左邊欄位值\n",
    "    def getLeftValue(subtable_list, index):\n",
    "        value = subtable_list[index].select('td')[1].text\n",
    "        return value\n",
    "\n",
    "    # 取得table中間欄位名(3欄)\n",
    "    def getMiddleColumn(subtable_list, index):\n",
    "        value = subtable_list[index].select('td')[2].text\n",
    "        return value\n",
    "\n",
    "    # 取得table中間欄位值(3欄)\n",
    "    def getMiddleValue(subtable_list, index):\n",
    "        value = subtable_list[index].select('td')[3].text\n",
    "        return value\n",
    "\n",
    "    # 取得table右邊欄位值\n",
    "    def getRightValue(subtable_list, index):\n",
    "        value = subtable_list[index].select('td')[-1].text\n",
    "        return value\n",
    "    \n",
    "    #設定將 \"4.25元\" 轉換成 float(4.25)\n",
    "    def textToFloat(pre_number_str):\n",
    "        try:\n",
    "            return float(pre_number_str.split('元')[0])\n",
    "        except:\n",
    "            return 0.0"
   ]
  },
  {
   "cell_type": "code",
   "execution_count": null,
   "metadata": {
    "collapsed": true
   },
   "outputs": [],
   "source": []
  },
  {
   "cell_type": "code",
   "execution_count": null,
   "metadata": {
    "collapsed": true
   },
   "outputs": [],
   "source": [
    "# 基本資料欄位"
   ]
  },
  {
   "cell_type": "code",
   "execution_count": null,
   "metadata": {
    "collapsed": true
   },
   "outputs": [],
   "source": [
    "# 現金股利"
   ]
  },
  {
   "cell_type": "code",
   "execution_count": 318,
   "metadata": {
    "collapsed": false
   },
   "outputs": [
    {
     "data": {
      "text/plain": [
       "4.0"
      ]
     },
     "execution_count": 318,
     "metadata": {},
     "output_type": "execute_result"
    }
   ],
   "source": [
    "textToFloat(getRightValue(subtable1_list, 0))"
   ]
  },
  {
   "cell_type": "code",
   "execution_count": 319,
   "metadata": {
    "collapsed": true
   },
   "outputs": [],
   "source": [
    "# 股票股利"
   ]
  },
  {
   "cell_type": "code",
   "execution_count": 320,
   "metadata": {
    "collapsed": false
   },
   "outputs": [
    {
     "data": {
      "text/plain": [
       "1.0"
      ]
     },
     "execution_count": 320,
     "metadata": {},
     "output_type": "execute_result"
    }
   ],
   "source": [
    "textToFloat(getRightValue(subtable1_list, 1))"
   ]
  },
  {
   "cell_type": "code",
   "execution_count": null,
   "metadata": {
    "collapsed": true
   },
   "outputs": [],
   "source": [
    "# 股本"
   ]
  },
  {
   "cell_type": "code",
   "execution_count": 94,
   "metadata": {
    "collapsed": false
   },
   "outputs": [
    {
     "data": {
      "text/plain": [
       "'1732.87億'"
      ]
     },
     "execution_count": 94,
     "metadata": {},
     "output_type": "execute_result"
    }
   ],
   "source": [
    "getLeftValue(subtable1_list, 6)"
   ]
  },
  {
   "cell_type": "code",
   "execution_count": null,
   "metadata": {
    "collapsed": true
   },
   "outputs": [],
   "source": [
    "# 獲利能力"
   ]
  },
  {
   "cell_type": "code",
   "execution_count": null,
   "metadata": {
    "collapsed": true
   },
   "outputs": [],
   "source": [
    "# 取得近4季EPS list"
   ]
  },
  {
   "cell_type": "code",
   "execution_count": 131,
   "metadata": {
    "collapsed": true
   },
   "outputs": [],
   "source": [
    "Last4QEPS_list = []\n",
    "for i in range(4):\n",
    "    thisquarter = tupleQuarterEPS(subtable2_list, i)\n",
    "    Last4QEPS_list.append(thisquarter)"
   ]
  },
  {
   "cell_type": "code",
   "execution_count": 132,
   "metadata": {
    "collapsed": false
   },
   "outputs": [
    {
     "data": {
      "text/plain": [
       "[('1054', 3.98), ('1053', 2.0), ('1052', 1.02), ('1051', 1.76)]"
      ]
     },
     "execution_count": 132,
     "metadata": {},
     "output_type": "execute_result"
    }
   ],
   "source": [
    "Last4QEPS_list"
   ]
  },
  {
   "cell_type": "code",
   "execution_count": null,
   "metadata": {
    "collapsed": true
   },
   "outputs": [],
   "source": [
    "# 最近一季ROE"
   ]
  },
  {
   "cell_type": "code",
   "execution_count": 111,
   "metadata": {
    "collapsed": false
   },
   "outputs": [
    {
     "data": {
      "text/plain": [
       "'6.47%'"
      ]
     },
     "execution_count": 111,
     "metadata": {},
     "output_type": "execute_result"
    }
   ],
   "source": [
    "getLeftValue(subtable2_list, -1)"
   ]
  },
  {
   "cell_type": "code",
   "execution_count": null,
   "metadata": {
    "collapsed": true
   },
   "outputs": [],
   "source": [
    "# 每股淨值"
   ]
  },
  {
   "cell_type": "code",
   "execution_count": 125,
   "metadata": {
    "collapsed": false
   },
   "outputs": [
    {
     "data": {
      "text/plain": [
       "62.26"
      ]
     },
     "execution_count": 125,
     "metadata": {},
     "output_type": "execute_result"
    }
   ],
   "source": [
    "textToFloat(getRightValue(subtable2_list, -1).split()[-1])"
   ]
  },
  {
   "cell_type": "markdown",
   "metadata": {},
   "source": [
    "# 拿取個股健檢資料"
   ]
  },
  {
   "cell_type": "code",
   "execution_count": null,
   "metadata": {
    "collapsed": true
   },
   "outputs": [],
   "source": [
    "# 測試URL"
   ]
  },
  {
   "cell_type": "code",
   "execution_count": 322,
   "metadata": {
    "collapsed": true
   },
   "outputs": [],
   "source": [
    "yahoosymiddataurl = 'https://tw.screener.finance.yahoo.net/screener/ws?f=j&ShowID=2317'"
   ]
  },
  {
   "cell_type": "code",
   "execution_count": 325,
   "metadata": {
    "collapsed": false
   },
   "outputs": [],
   "source": [
    "thisjsonobj = getDataBySelenium(yahoosymiddataurl)"
   ]
  },
  {
   "cell_type": "code",
   "execution_count": null,
   "metadata": {
    "collapsed": true
   },
   "outputs": [],
   "source": [
    "# 最後收盤價 price"
   ]
  },
  {
   "cell_type": "code",
   "execution_count": 327,
   "metadata": {
    "collapsed": false,
    "scrolled": true
   },
   "outputs": [
    {
     "data": {
      "text/plain": [
       "'100.00元'"
      ]
     },
     "execution_count": 327,
     "metadata": {},
     "output_type": "execute_result"
    }
   ],
   "source": [
    "thisjsonobj['items'][0]['vFLD_CLOSE']"
   ]
  },
  {
   "cell_type": "code",
   "execution_count": null,
   "metadata": {
    "collapsed": true
   },
   "outputs": [],
   "source": [
    "# 近52周最高"
   ]
  },
  {
   "cell_type": "code",
   "execution_count": 329,
   "metadata": {
    "collapsed": false
   },
   "outputs": [
    {
     "data": {
      "text/plain": [
       "'101.50元'"
      ]
     },
     "execution_count": 329,
     "metadata": {},
     "output_type": "execute_result"
    }
   ],
   "source": [
    "thisjsonobj['items'][0]['v52_WEEK_HIGH_PRICE']"
   ]
  },
  {
   "cell_type": "code",
   "execution_count": null,
   "metadata": {
    "collapsed": true
   },
   "outputs": [],
   "source": [
    "# 近52周最低"
   ]
  },
  {
   "cell_type": "code",
   "execution_count": 328,
   "metadata": {
    "collapsed": false
   },
   "outputs": [
    {
     "data": {
      "text/plain": [
       "'72.50元'"
      ]
     },
     "execution_count": 328,
     "metadata": {},
     "output_type": "execute_result"
    }
   ],
   "source": [
    "thisjsonobj['items'][0]['v52_WEEK_LOW_PRICE']"
   ]
  }
 ],
 "metadata": {
  "anaconda-cloud": {},
  "kernelspec": {
   "display_name": "Python [default]",
   "language": "python",
   "name": "python3"
  },
  "language_info": {
   "codemirror_mode": {
    "name": "ipython",
    "version": 3
   },
   "file_extension": ".py",
   "mimetype": "text/x-python",
   "name": "python",
   "nbconvert_exporter": "python",
   "pygments_lexer": "ipython3",
   "version": "3.5.2"
  }
 },
 "nbformat": 4,
 "nbformat_minor": 1
}
